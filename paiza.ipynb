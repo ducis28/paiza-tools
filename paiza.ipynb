{
  "nbformat": 4,
  "nbformat_minor": 0,
  "metadata": {
    "colab": {
      "name": "paiza.ipynb のコピー",
      "provenance": []
    },
    "kernelspec": {
      "name": "python3",
      "display_name": "Python 3"
    }
  },
  "cells": [
    {
      "cell_type": "markdown",
      "metadata": {
        "id": "tJPshfrZuBHY"
      },
      "source": [
        "# paiza スキルチェックの成績を自動的に取得するやつ\n",
        "\n",
        "* 木村くんのやつをベースに改変\n",
        "* 実行日の取得は未実装"
      ]
    },
    {
      "cell_type": "code",
      "metadata": {
        "id": "0kaCoh1At_aM"
      },
      "source": [
        "!pip install selenium\n",
        "!apt-get update\n",
        "!apt install chromium-chromedriver\n",
        "!cp /usr/lib/chromium-browser/chromedriver /usr/bin"
      ],
      "execution_count": null,
      "outputs": []
    },
    {
      "cell_type": "code",
      "metadata": {
        "id": "nspCa8VevprB"
      },
      "source": [
        "import time\n",
        "\n",
        "import pandas as pd\n",
        "from selenium import webdriver\n",
        "from selenium.webdriver.common.by import By\n",
        "from selenium.webdriver.support.ui import WebDriverWait\n",
        "from selenium.webdriver.support import expected_conditions as EC"
      ],
      "execution_count": null,
      "outputs": []
    },
    {
      "cell_type": "code",
      "metadata": {
        "id": "Zf9peswCt_iR"
      },
      "source": [
        "def login(email, password):\n",
        "    options = webdriver.ChromeOptions()\n",
        "    options.add_argument('--headless')\n",
        "    options.add_argument('--no-sandbox')\n",
        "    options.add_argument('--disable-dev-shm-usage')\n",
        "    driver = webdriver.Chrome('chromedriver', options=options)\n",
        "    driver.get(\"https://paiza.jp/sign_in\")\n",
        "    time.sleep(2)\n",
        "    driver.find_element_by_id(\"email\").send_keys(email)\n",
        "    driver.find_element_by_id(\"password\").send_keys(password)\n",
        "    time.sleep(1)\n",
        "    driver.find_element_by_class_name('a-button-primary-large').click()\n",
        "    time.sleep(2)\n",
        "    return driver"
      ],
      "execution_count": null,
      "outputs": []
    },
    {
      "cell_type": "code",
      "metadata": {
        "id": "inIMXUUtt_lm"
      },
      "source": [
        "email = \"dfkgw1978@gmail.com\"\n",
        "password = input().strip()\n",
        "driver = login(email, password)"
      ],
      "execution_count": null,
      "outputs": []
    },
    {
      "cell_type": "code",
      "metadata": {
        "id": "krfSYpUNvjLV"
      },
      "source": [
        "def get_result(driver):\n",
        "    columns = [\"受験状態\", \"Title\", \"言語\", \"タイム\", \"バイト\", \"点数\"]\n",
        "    df = pd.DataFrame([], columns=columns)\n",
        "    for rank in \"dcbas\":\n",
        "        url_tmp = f'https://paiza.jp/challenges/ranks/{rank}/info'\n",
        "        driver.get(url_tmp)\n",
        "        time.sleep(2)\n",
        "\n",
        "        problem_ids = []\n",
        "        for elem in driver.find_elements_by_class_name(\"problem-box--submitted\"):\n",
        "            problem_id = elem.get_attribute(\"id\")\n",
        "            if problem_id.startswith(\"challenge_\"):\n",
        "                problem_id = int(problem_id[10:])\n",
        "                problem_ids.append(problem_id)\n",
        "\n",
        "        for problem_id in problem_ids:\n",
        "                print(rank, problem_id)\n",
        "                url_tmp = f'https://paiza.jp/career/challenges/{problem_id}/page/result'\n",
        "                driver.get(url_tmp)\n",
        "                WebDriverWait(driver, 5).until(\n",
        "                    EC.presence_of_element_located((By.CLASS_NAME, \"summary-box__result\"))\n",
        "                )\n",
        "                tmp = driver.find_elements_by_css_selector(\".strong.font16\")\n",
        "                tmp = [x.text for x in tmp]\n",
        "                title = driver.find_element_by_css_selector(\".summary-box__problem-name\").text\n",
        "                tmp = [\"済\", title, *tmp]\n",
        "                df = df.append(pd.Series(tmp, index=df.columns), ignore_index=True)\n",
        "                #break\n",
        "        #break\n",
        "    return df"
      ],
      "execution_count": null,
      "outputs": []
    },
    {
      "cell_type": "code",
      "metadata": {
        "colab": {
          "base_uri": "https://localhost:8080/"
        },
        "id": "XXL5RbYCvjSK",
        "outputId": "c1e930f1-550f-4d17-f595-038c85f4a57d"
      },
      "source": [
        "df = get_result(driver)"
      ],
      "execution_count": null,
      "outputs": [
        {
          "output_type": "stream",
          "text": [
            "d 44\n",
            "d 421\n",
            "d 395\n",
            "d 352\n",
            "d 348\n",
            "d 345\n",
            "d 332\n",
            "d 328\n",
            "d 322\n",
            "d 319\n",
            "d 317\n",
            "d 313\n",
            "d 307\n",
            "d 300\n",
            "d 293\n",
            "d 277\n",
            "d 275\n",
            "d 273\n",
            "d 271\n",
            "d 262\n",
            "d 260\n",
            "d 258\n",
            "d 249\n",
            "d 243\n",
            "d 222\n",
            "d 209\n",
            "d 188\n",
            "d 149\n",
            "d 140\n",
            "d 130\n",
            "d 114\n",
            "d 110\n",
            "d 105\n",
            "d 101\n",
            "d 99\n",
            "d 72\n",
            "d 70\n",
            "d 67\n",
            "d 64\n",
            "d 59\n",
            "d 58\n",
            "d 53\n",
            "d 40\n",
            "d 36\n",
            "d 34\n",
            "d 31\n",
            "c 359\n",
            "c 337\n",
            "c 351\n",
            "c 340\n",
            "c 318\n",
            "c 287\n",
            "c 296\n",
            "c 291\n",
            "c 266\n",
            "c 261\n",
            "c 256\n",
            "c 239\n",
            "c 231\n",
            "c 196\n",
            "c 181\n",
            "c 171\n",
            "c 121\n",
            "c 119\n",
            "c 98\n",
            "c 91\n",
            "c 85\n",
            "c 73\n",
            "c 68\n",
            "c 60\n",
            "c 54\n",
            "c 51\n",
            "c 18\n",
            "c 16\n",
            "b 350\n",
            "b 353\n",
            "b 167\n",
            "b 77\n",
            "b 74\n",
            "b 63\n",
            "b 69\n",
            "b 61\n",
            "b 57\n",
            "b 15\n",
            "a 349\n",
            "a 272\n",
            "a 202\n",
            "s 344\n",
            "s 310\n",
            "s 208\n",
            "s 183\n",
            "s 65\n"
          ],
          "name": "stdout"
        }
      ]
    },
    {
      "cell_type": "code",
      "metadata": {
        "id": "W6cTmW2CvjU-"
      },
      "source": [
        "path = \"hogehoge.csv\"\n",
        "df.to_csv(path, encoding=\"utf_8_sig\")"
      ],
      "execution_count": null,
      "outputs": []
    },
    {
      "cell_type": "code",
      "metadata": {
        "id": "n4HQLBlvwoO9"
      },
      "source": [
        ""
      ],
      "execution_count": null,
      "outputs": []
    },
    {
      "cell_type": "code",
      "metadata": {
        "id": "RgiGbE2YvjXo"
      },
      "source": [
        ""
      ],
      "execution_count": null,
      "outputs": []
    },
    {
      "cell_type": "code",
      "metadata": {
        "id": "WAbCGAypvjaF"
      },
      "source": [
        ""
      ],
      "execution_count": null,
      "outputs": []
    },
    {
      "cell_type": "code",
      "metadata": {
        "id": "9QvdFuZdyXZO"
      },
      "source": [
        ""
      ],
      "execution_count": null,
      "outputs": []
    },
    {
      "cell_type": "code",
      "metadata": {
        "id": "mbcNgsq7ydpv"
      },
      "source": [
        ""
      ],
      "execution_count": null,
      "outputs": []
    },
    {
      "cell_type": "code",
      "metadata": {
        "id": "uXYD3HZnz1TE"
      },
      "source": [
        ""
      ],
      "execution_count": null,
      "outputs": []
    },
    {
      "cell_type": "code",
      "metadata": {
        "id": "b4XWWk9U4kT8"
      },
      "source": [
        ""
      ],
      "execution_count": null,
      "outputs": []
    }
  ]
}