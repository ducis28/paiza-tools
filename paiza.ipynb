{
  "cells": [
    {
      "cell_type": "markdown",
      "metadata": {
        "id": "tJPshfrZuBHY"
      },
      "source": [
        "# paiza スキルチェックの成績を取得する\n",
        "\n",
        "- 研究室の paiza 課題のために，評価結果を一気に Excel 形式にまとめるためのツール\n",
        "- paiza スキルチェックの[評価結果一覧画面](https://paiza.jp/student/mypage/results) の内容を集計する\n",
        "\n",
        "- メモ\n",
        "  - selenium 4 は Google Colab 上でバージョン不整合が起きる（？）ため selenium 3 を指定"
      ]
    },
    {
      "cell_type": "code",
      "execution_count": null,
      "metadata": {
        "id": "0kaCoh1At_aM",
        "vscode": {
          "languageId": "python"
        }
      },
      "outputs": [],
      "source": [
        "!pip install selenium~=3.14\n",
        "!apt-get update\n",
        "!apt install chromium-chromedriver"
      ]
    },
    {
      "cell_type": "code",
      "execution_count": null,
      "metadata": {
        "vscode": {
          "languageId": "python"
        }
      },
      "outputs": [],
      "source": [
        "def get_paiza_results():\n",
        "  '''get_paiza_results\n",
        "    paiza の評価結果一覧ページを取得する。\n",
        "    戻り値は HTML ソース文字列\n",
        "  '''\n",
        "\n",
        "  import time\n",
        "\n",
        "  from getpass import getpass\n",
        "  from selenium import webdriver\n",
        "  from selenium.webdriver.common.by import By\n",
        "  #from selenium.webdriver.support.ui import WebDriverWait\n",
        "  #from selenium.webdriver.support import expected_conditions as EC\n",
        "\n",
        "  options = webdriver.ChromeOptions()\n",
        "  options.add_argument('--headless')\n",
        "  options.add_argument('--no-sandbox')\n",
        "  options.add_argument('--disable-dev-shm-usage')\n",
        "\n",
        "  driver = webdriver.Chrome('chromedriver', options=options)\n",
        "\n",
        "  driver.implicitly_wait(10)\n",
        "\n",
        "  url_result = 'https://paiza.jp/student/mypage/results'\n",
        "  url_signin = 'https://paiza.jp/sign_in'\n",
        "\n",
        "  driver.get(url_result)\n",
        "  print('評価結果一覧ページを開いています...')\n",
        "  time.sleep(2)\n",
        "\n",
        "  if driver.current_url == url_signin:\n",
        "    # 電子メールアドレス\n",
        "    email = input('paiza の電子メールアドレスを入力してください').strip()\n",
        "    elem = driver.find_element(by=By.XPATH, value=\"//*[@type='email']\")\n",
        "    elem.send_keys(email)\n",
        "    print(elem.get_attribute('value'))\n",
        "\n",
        "    # パスワード\n",
        "    password = getpass('paiza のパスワードを入力してください').strip()\n",
        "    elem = driver.find_element(by=By.XPATH, value=\"//*[@type='password']\")\n",
        "    elem.send_keys(password)\n",
        "\n",
        "    # ログインボタンを押す\n",
        "    elem = driver.find_element(by=By.CLASS_NAME, value='a-button-primary-large')\n",
        "    print(elem.is_enabled())\n",
        "    elem.click()\n",
        "  \n",
        "    print('ログイン中です...')\n",
        "    time.sleep(2)\n",
        "\n",
        "  print(driver.current_url)\n",
        "  assert driver.current_url == url_result\n",
        "  print('ログインしました')\n",
        "\n",
        "  return driver.page_source"
      ]
    },
    {
      "cell_type": "code",
      "execution_count": null,
      "metadata": {
        "vscode": {
          "languageId": "python"
        }
      },
      "outputs": [],
      "source": [
        "def parse_paiza_results(doc):\n",
        "  '''parse_paiza_results\n",
        "    paiza の評価結果一覧ページ（HTML）を解析し，DataFrame に変換する。\n",
        "  '''\n",
        "\n",
        "  import pandas as pd\n",
        "  from bs4 import BeautifulSoup\n",
        "\n",
        "  BASIC_BOX_CLASS = 'd-mypage-my-results__basicBox'\n",
        "  TITLE_CLASS = 'd-mypage-my-results__box-top__title'\n",
        "  BOX_TOP_CLASS = 'd-mypage-my-results__box-top'\n",
        "  BOX_MIDDLE_CLASS = 'd-mypage-my-results__box-middle'\n",
        "  BOX_BOTTOM_CLASS = 'd-mypage-my-results__box-bottom'\n",
        "\n",
        "  soup = BeautifulSoup(doc)\n",
        "\n",
        "  df_all = None\n",
        "\n",
        "  for result in soup.select(f'div.{BASIC_BOX_CLASS}'):\n",
        "    d = {}\n",
        "    d['title'] = result.select_one(f'.{TITLE_CLASS}').text.strip()\n",
        "    d['problem_id'] = result.select_one(f'.{TITLE_CLASS} a').attrs['href']\n",
        "    d['submitted'] = result.select(f'.{BOX_TOP_CLASS} > span')[1].text.strip()\n",
        "\n",
        "    temp = result.select(f'.{BOX_MIDDLE_CLASS} span')\n",
        "    d['lang'] = temp[2].text.strip()\n",
        "    d['time'] = temp[4].text.strip()\n",
        "    d['score'] = temp[8].text.strip()\n",
        "\n",
        "    temp = result.select(f'.{BOX_BOTTOM_CLASS} > span')\n",
        "    d['difficulty'] = temp[2].text.strip()\n",
        "    d['examinees'] = temp[4].text.strip()\n",
        "    d['correct_answer_rate'] = temp[6].text.strip()\n",
        "    d['average_time'] = temp[8].text.strip()\n",
        "    d['average_score'] = temp[10].text.strip()\n",
        "\n",
        "    if df_all is None:\n",
        "      df_all = pd.Series(d).to_frame().T\n",
        "    else:\n",
        "      df_all = df_all.append(d, ignore_index=True)\n",
        "  \n",
        "  return df_all"
      ]
    },
    {
      "cell_type": "code",
      "execution_count": null,
      "metadata": {
        "vscode": {
          "languageId": "python"
        }
      },
      "outputs": [],
      "source": []
    },
    {
      "cell_type": "code",
      "execution_count": null,
      "metadata": {
        "vscode": {
          "languageId": "python"
        }
      },
      "outputs": [],
      "source": [
        "import pandas as pd"
      ]
    },
    {
      "cell_type": "code",
      "execution_count": null,
      "metadata": {
        "vscode": {
          "languageId": "python"
        }
      },
      "outputs": [],
      "source": [
        "doc = get_paiza_results()\n",
        "df_orig = parse_paiza_results(doc)"
      ]
    },
    {
      "cell_type": "code",
      "execution_count": null,
      "metadata": {
        "vscode": {
          "languageId": "python"
        }
      },
      "outputs": [],
      "source": [
        "df = df_orig.copy()\n",
        "\n",
        "# Check\n",
        "n = len(df)\n",
        "idx = df.time.str.match('[0-9]+分[0-9]+秒')\n",
        "if sum(idx) != n: print(df.time[idx])\n",
        "idx = df.score.str.match('[0-9]+点')\n",
        "if sum(idx) != n: print(df.score[idx])\n",
        "\n",
        "# Transform\n",
        "df['problem_code'] = df.title.str.replace('.*([SABCD][0-9]+)(?=:).*', lambda m: m.group(1), regex=True)\n",
        "df['title'] = df.title.str.replace('(.*)([SABCD][0-9]+:)(.*)', lambda m: m.group(1) + m.group(3), regex=True)\n",
        "df['problem_id'] = df.problem_id.str.replace('.*/challenges/([0-9]+)/.*', lambda m: m.group(1), regex=True)\n",
        "df['submitted'] = df.submitted.str.replace('提出日：(.*)', lambda m: m.group(1), regex=True)\n",
        "df['time'] = df.time.str.replace('([0-9]+)分([0-9]+)秒', lambda m: str(int(m.group(1)) * 60 + int(m.group(2))), regex=True).astype(int)\n",
        "df['score'] = df.score.str.replace('([0-9]+)点', lambda m: m.group(1), regex=True).astype(int)\n",
        "\n",
        "# 研究室フォーマットへ\n",
        "# ToDo: コードのサイズ（バイト）を取得する\n",
        "df['Name'] = None\n",
        "df['Bytes'] = None\n",
        "df['Comment'] = None\n",
        "df['submitted'] = pd.to_datetime(df['submitted']).dt.strftime('%Y/%m/%d %H:%M:%S')\n",
        "df['time'] = df.time.clip(upper=24*60*60-1)\n",
        "df['time'] = (pd.to_datetime(0) + pd.to_timedelta(df.time, unit='sec')).dt.strftime('%H:%M:%S')\n",
        "\n",
        "df = df[['submitted', 'Name', 'problem_code', 'title', 'lang', 'time', 'Bytes', 'score', 'Comment']]\n",
        "df.columns = 'Date Name Problem Title Lang Time Bytes Score Comment'.split()\n",
        "#df = df.sort_values('Problem', key=lambda col: col.str.translate(str.maketrans({'D':'1', 'C':'2', 'B':'3', 'A':'4', 'S':'5'})))\n",
        "df"
      ]
    },
    {
      "cell_type": "code",
      "execution_count": null,
      "metadata": {
        "id": "nspCa8VevprB",
        "vscode": {
          "languageId": "python"
        }
      },
      "outputs": [],
      "source": [
        "path = 'paiza.xlsx'\n",
        "df.to_excel(path, index=False)\n",
        "from google.colab import files\n",
        "files.download(path)"
      ]
    },
    {
      "cell_type": "code",
      "execution_count": null,
      "metadata": {
        "id": "n4HQLBlvwoO9",
        "vscode": {
          "languageId": "python"
        }
      },
      "outputs": [],
      "source": []
    }
  ],
  "metadata": {
    "colab": {
      "name": "paiza.ipynb",
      "provenance": []
    },
    "kernelspec": {
      "display_name": "Python 3",
      "name": "python3"
    }
  },
  "nbformat": 4,
  "nbformat_minor": 0
}
